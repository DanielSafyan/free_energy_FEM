{
 "cells": [
  {
   "cell_type": "code",
   "execution_count": 3,
   "id": "0701d88b",
   "metadata": {},
   "outputs": [],
   "source": [
    "from analyze_rle import *"
   ]
  },
  {
   "cell_type": "code",
   "execution_count": 4,
   "id": "cd1e2d85",
   "metadata": {},
   "outputs": [
    {
     "name": "stdout",
     "output_type": "stream",
     "text": [
      "=== Ball Block Dwell Time Analysis (RLE Format) ===\n",
      "Total timesteps analyzed: 9914\n",
      "Total block sequences: 399\n",
      "Average consecutive timesteps in same block: 24.85\n",
      "Shortest dwell time: 1 timesteps\n",
      "Longest dwell time: 71 timesteps\n",
      "\n",
      "=== Per-Block Statistics ===\n",
      "Block 2:\n",
      "  Average dwell time: 25.26 timesteps\n",
      "  Min/Max dwell time: 1/40 timesteps\n",
      "  Total visits: 72\n",
      "  Total time spent: 1819 timesteps\n",
      "\n",
      "Block 3:\n",
      "  Average dwell time: 23.97 timesteps\n",
      "  Min/Max dwell time: 1/40 timesteps\n",
      "  Total visits: 64\n",
      "  Total time spent: 1534 timesteps\n",
      "\n",
      "Block 5:\n",
      "  Average dwell time: 36.33 timesteps\n",
      "  Min/Max dwell time: 4/65 timesteps\n",
      "  Total visits: 43\n",
      "  Total time spent: 1562 timesteps\n",
      "\n",
      "Block 4:\n",
      "  Average dwell time: 36.86 timesteps\n",
      "  Min/Max dwell time: 3/71 timesteps\n",
      "  Total visits: 44\n",
      "  Total time spent: 1622 timesteps\n",
      "\n",
      "Block 0:\n",
      "  Average dwell time: 24.70 timesteps\n",
      "  Min/Max dwell time: 2/40 timesteps\n",
      "  Total visits: 69\n",
      "  Total time spent: 1704 timesteps\n",
      "\n",
      "Block 1:\n",
      "  Average dwell time: 25.71 timesteps\n",
      "  Min/Max dwell time: 3/40 timesteps\n",
      "  Total visits: 63\n",
      "  Total time spent: 1620 timesteps\n",
      "\n",
      "Outside grid:\n",
      "  Average dwell time: 1.20 timesteps\n",
      "  Min/Max dwell time: 1/9 timesteps\n",
      "  Total visits: 44\n",
      "  Total time spent: 53 timesteps\n",
      "\n"
     ]
    }
   ],
   "source": [
    "print_dwell_time_analysis_rle(csv_file_path=\"ball_position_tracking.csv\")"
   ]
  },
  {
   "cell_type": "code",
   "execution_count": 11,
   "id": "066165a8",
   "metadata": {},
   "outputs": [
    {
     "data": {
      "text/plain": [
       "[4, 6, 8]"
      ]
     },
     "execution_count": 11,
     "metadata": {},
     "output_type": "execute_result"
    }
   ],
   "source": [
    "a = [4,5,6,7, 8,9,10,11]\n",
    "\n",
    "a[0:6:2]"
   ]
  },
  {
   "cell_type": "code",
   "execution_count": null,
   "id": "46fb725b",
   "metadata": {},
   "outputs": [],
   "source": []
  },
  {
   "cell_type": "code",
   "execution_count": null,
   "id": "a3a1a65a",
   "metadata": {},
   "outputs": [],
   "source": []
  }
 ],
 "metadata": {
  "kernelspec": {
   "display_name": "sim_env",
   "language": "python",
   "name": "python3"
  },
  "language_info": {
   "codemirror_mode": {
    "name": "ipython",
    "version": 3
   },
   "file_extension": ".py",
   "mimetype": "text/x-python",
   "name": "python",
   "nbconvert_exporter": "python",
   "pygments_lexer": "ipython3",
   "version": "3.13.5"
  }
 },
 "nbformat": 4,
 "nbformat_minor": 5
}
