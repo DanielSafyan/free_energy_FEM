{
 "cells": [
  {
   "cell_type": "code",
   "execution_count": 140,
   "id": "ad341693",
   "metadata": {},
   "outputs": [],
   "source": [
    "import numpy as np\n",
    "import pandas as pd\n",
    "import matplotlib.pyplot as plt\n",
    "from matplotlib.collections import PolyCollection\n",
    "\n",
    "\n",
    "file_path = \"output/electrode_npp_3d_results.npz\"\n",
    "\n",
    "data = np.load(file_path)\n",
    "nodes = data['nodes']\n",
    "elements = data['elements']\n",
    "c1_history = data['c1_history']\n",
    "c2_history = data['c2_history']\n",
    "phi_history = data['phi_history']\n",
    "dt = data['dt'].item()  # Use .item() to get scalar value\n",
    "num_steps = c1_history.shape[0]\n",
    "phi_c = data['phi_c'].item()\n",
    "tau_c = data['tau_c'].item()"
   ]
  },
  {
   "cell_type": "code",
   "execution_count": 141,
   "id": "1d1c4ef4",
   "metadata": {},
   "outputs": [
    {
     "data": {
      "text/plain": [
       "(11, 1331)"
      ]
     },
     "execution_count": 141,
     "metadata": {},
     "output_type": "execute_result"
    }
   ],
   "source": [
    "c1_history.shape"
   ]
  },
  {
   "cell_type": "code",
   "execution_count": 142,
   "id": "6b0a9852",
   "metadata": {},
   "outputs": [],
   "source": [
    "phi = pd.DataFrame(phi_history)"
   ]
  },
  {
   "cell_type": "code",
   "execution_count": 143,
   "id": "47a1e5b6",
   "metadata": {},
   "outputs": [
    {
     "data": {
      "text/html": [
       "<div>\n",
       "<style scoped>\n",
       "    .dataframe tbody tr th:only-of-type {\n",
       "        vertical-align: middle;\n",
       "    }\n",
       "\n",
       "    .dataframe tbody tr th {\n",
       "        vertical-align: top;\n",
       "    }\n",
       "\n",
       "    .dataframe thead th {\n",
       "        text-align: right;\n",
       "    }\n",
       "</style>\n",
       "<table border=\"1\" class=\"dataframe\">\n",
       "  <thead>\n",
       "    <tr style=\"text-align: right;\">\n",
       "      <th></th>\n",
       "      <th>0</th>\n",
       "      <th>1</th>\n",
       "      <th>2</th>\n",
       "      <th>3</th>\n",
       "      <th>4</th>\n",
       "      <th>5</th>\n",
       "      <th>6</th>\n",
       "      <th>7</th>\n",
       "      <th>8</th>\n",
       "      <th>9</th>\n",
       "      <th>...</th>\n",
       "      <th>1321</th>\n",
       "      <th>1322</th>\n",
       "      <th>1323</th>\n",
       "      <th>1324</th>\n",
       "      <th>1325</th>\n",
       "      <th>1326</th>\n",
       "      <th>1327</th>\n",
       "      <th>1328</th>\n",
       "      <th>1329</th>\n",
       "      <th>1330</th>\n",
       "    </tr>\n",
       "  </thead>\n",
       "  <tbody>\n",
       "    <tr>\n",
       "      <th>0</th>\n",
       "      <td>0.000000</td>\n",
       "      <td>0.000000</td>\n",
       "      <td>0.000000</td>\n",
       "      <td>0.000000</td>\n",
       "      <td>0.000000</td>\n",
       "      <td>0.000000</td>\n",
       "      <td>0.000000</td>\n",
       "      <td>0.000000</td>\n",
       "      <td>0.000000</td>\n",
       "      <td>0.000000</td>\n",
       "      <td>...</td>\n",
       "      <td>0.000000</td>\n",
       "      <td>0.000000</td>\n",
       "      <td>0.000000</td>\n",
       "      <td>0.000000</td>\n",
       "      <td>0.000000</td>\n",
       "      <td>0.000000</td>\n",
       "      <td>0.000000</td>\n",
       "      <td>0.000000</td>\n",
       "      <td>0.000000</td>\n",
       "      <td>0.000000</td>\n",
       "    </tr>\n",
       "    <tr>\n",
       "      <th>1</th>\n",
       "      <td>0.027481</td>\n",
       "      <td>0.027746</td>\n",
       "      <td>0.027845</td>\n",
       "      <td>0.027366</td>\n",
       "      <td>0.026267</td>\n",
       "      <td>0.024667</td>\n",
       "      <td>0.022714</td>\n",
       "      <td>0.020567</td>\n",
       "      <td>0.018433</td>\n",
       "      <td>0.016685</td>\n",
       "      <td>...</td>\n",
       "      <td>0.036310</td>\n",
       "      <td>0.035290</td>\n",
       "      <td>0.033782</td>\n",
       "      <td>0.032012</td>\n",
       "      <td>0.030172</td>\n",
       "      <td>0.028416</td>\n",
       "      <td>0.026871</td>\n",
       "      <td>0.025646</td>\n",
       "      <td>0.024843</td>\n",
       "      <td>0.024527</td>\n",
       "    </tr>\n",
       "    <tr>\n",
       "      <th>2</th>\n",
       "      <td>0.027507</td>\n",
       "      <td>0.027773</td>\n",
       "      <td>0.027872</td>\n",
       "      <td>0.027393</td>\n",
       "      <td>0.026293</td>\n",
       "      <td>0.024691</td>\n",
       "      <td>0.022736</td>\n",
       "      <td>0.020587</td>\n",
       "      <td>0.018451</td>\n",
       "      <td>0.016701</td>\n",
       "      <td>...</td>\n",
       "      <td>0.036346</td>\n",
       "      <td>0.035324</td>\n",
       "      <td>0.033815</td>\n",
       "      <td>0.032043</td>\n",
       "      <td>0.030201</td>\n",
       "      <td>0.028444</td>\n",
       "      <td>0.026897</td>\n",
       "      <td>0.025671</td>\n",
       "      <td>0.024867</td>\n",
       "      <td>0.024551</td>\n",
       "    </tr>\n",
       "    <tr>\n",
       "      <th>3</th>\n",
       "      <td>0.027507</td>\n",
       "      <td>0.027773</td>\n",
       "      <td>0.027872</td>\n",
       "      <td>0.027393</td>\n",
       "      <td>0.026293</td>\n",
       "      <td>0.024691</td>\n",
       "      <td>0.022736</td>\n",
       "      <td>0.020587</td>\n",
       "      <td>0.018451</td>\n",
       "      <td>0.016701</td>\n",
       "      <td>...</td>\n",
       "      <td>0.036346</td>\n",
       "      <td>0.035324</td>\n",
       "      <td>0.033815</td>\n",
       "      <td>0.032043</td>\n",
       "      <td>0.030201</td>\n",
       "      <td>0.028444</td>\n",
       "      <td>0.026897</td>\n",
       "      <td>0.025671</td>\n",
       "      <td>0.024867</td>\n",
       "      <td>0.024551</td>\n",
       "    </tr>\n",
       "    <tr>\n",
       "      <th>4</th>\n",
       "      <td>0.005520</td>\n",
       "      <td>0.005304</td>\n",
       "      <td>0.004892</td>\n",
       "      <td>0.004427</td>\n",
       "      <td>0.003978</td>\n",
       "      <td>0.003566</td>\n",
       "      <td>0.003192</td>\n",
       "      <td>0.002854</td>\n",
       "      <td>0.002553</td>\n",
       "      <td>0.002319</td>\n",
       "      <td>...</td>\n",
       "      <td>0.003486</td>\n",
       "      <td>0.003434</td>\n",
       "      <td>0.003355</td>\n",
       "      <td>0.003260</td>\n",
       "      <td>0.003161</td>\n",
       "      <td>0.003070</td>\n",
       "      <td>0.002995</td>\n",
       "      <td>0.002938</td>\n",
       "      <td>0.002903</td>\n",
       "      <td>0.002890</td>\n",
       "    </tr>\n",
       "  </tbody>\n",
       "</table>\n",
       "<p>5 rows × 1331 columns</p>\n",
       "</div>"
      ],
      "text/plain": [
       "       0         1         2         3         4         5         6     \\\n",
       "0  0.000000  0.000000  0.000000  0.000000  0.000000  0.000000  0.000000   \n",
       "1  0.027481  0.027746  0.027845  0.027366  0.026267  0.024667  0.022714   \n",
       "2  0.027507  0.027773  0.027872  0.027393  0.026293  0.024691  0.022736   \n",
       "3  0.027507  0.027773  0.027872  0.027393  0.026293  0.024691  0.022736   \n",
       "4  0.005520  0.005304  0.004892  0.004427  0.003978  0.003566  0.003192   \n",
       "\n",
       "       7         8         9     ...      1321      1322      1323      1324  \\\n",
       "0  0.000000  0.000000  0.000000  ...  0.000000  0.000000  0.000000  0.000000   \n",
       "1  0.020567  0.018433  0.016685  ...  0.036310  0.035290  0.033782  0.032012   \n",
       "2  0.020587  0.018451  0.016701  ...  0.036346  0.035324  0.033815  0.032043   \n",
       "3  0.020587  0.018451  0.016701  ...  0.036346  0.035324  0.033815  0.032043   \n",
       "4  0.002854  0.002553  0.002319  ...  0.003486  0.003434  0.003355  0.003260   \n",
       "\n",
       "       1325      1326      1327      1328      1329      1330  \n",
       "0  0.000000  0.000000  0.000000  0.000000  0.000000  0.000000  \n",
       "1  0.030172  0.028416  0.026871  0.025646  0.024843  0.024527  \n",
       "2  0.030201  0.028444  0.026897  0.025671  0.024867  0.024551  \n",
       "3  0.030201  0.028444  0.026897  0.025671  0.024867  0.024551  \n",
       "4  0.003161  0.003070  0.002995  0.002938  0.002903  0.002890  \n",
       "\n",
       "[5 rows x 1331 columns]"
      ]
     },
     "execution_count": 143,
     "metadata": {},
     "output_type": "execute_result"
    }
   ],
   "source": [
    "phi.head()"
   ]
  },
  {
   "cell_type": "code",
   "execution_count": 144,
   "id": "da59c636",
   "metadata": {},
   "outputs": [
    {
     "data": {
      "text/plain": [
       "np.float64(-0.3306822781377434)"
      ]
     },
     "execution_count": 144,
     "metadata": {},
     "output_type": "execute_result"
    }
   ],
   "source": [
    "np.sum(c1_history[0])- np.sum(c1_history[-1])"
   ]
  },
  {
   "cell_type": "code",
   "execution_count": 145,
   "id": "2bb82b06",
   "metadata": {},
   "outputs": [],
   "source": [
    "# k=0.5 -> -0.49\n",
    "# k=5 -> -4.05\n",
    "\n",
    "# k = 1; T = 400 -> -4.65\n",
    "# k = -1; T = 400 "
   ]
  },
  {
   "cell_type": "code",
   "execution_count": 146,
   "id": "dd26c9d0",
   "metadata": {},
   "outputs": [
    {
     "ename": "ValueError",
     "evalue": "'vertices' must be 2D with shape (N, 2), but your input has shape (5, 3)",
     "output_type": "error",
     "traceback": [
      "\u001b[31m---------------------------------------------------------------------------\u001b[39m",
      "\u001b[31mValueError\u001b[39m                                Traceback (most recent call last)",
      "\u001b[36mCell\u001b[39m\u001b[36m \u001b[39m\u001b[32mIn[146]\u001b[39m\u001b[32m, line 8\u001b[39m\n\u001b[32m      6\u001b[39m                 \u001b[38;5;66;03m# --- Plot c1 on the first axis (ax1) ---\u001b[39;00m\n\u001b[32m      7\u001b[39m c1_triangle_values = c1_history[i][elements].sum(axis=\u001b[32m1\u001b[39m)\n\u001b[32m----> \u001b[39m\u001b[32m8\u001b[39m collection1 = \u001b[43mPolyCollection\u001b[49m\u001b[43m(\u001b[49m\u001b[43mnodes\u001b[49m\u001b[43m[\u001b[49m\u001b[43melements\u001b[49m\u001b[43m]\u001b[49m\u001b[43m,\u001b[49m\u001b[43m \u001b[49m\u001b[43mcmap\u001b[49m\u001b[43m=\u001b[49m\u001b[33;43m'\u001b[39;49m\u001b[33;43mviridis\u001b[39;49m\u001b[33;43m'\u001b[39;49m\u001b[43m)\u001b[49m\n\u001b[32m      9\u001b[39m collection1.set_array(c1_triangle_values)\n\u001b[32m     10\u001b[39m ax1.add_collection(collection1)\n",
      "\u001b[36mFile \u001b[39m\u001b[32m~/miniconda3/envs/sim_env/lib/python3.13/site-packages/matplotlib/collections.py:1203\u001b[39m, in \u001b[36mPolyCollection.__init__\u001b[39m\u001b[34m(self, verts, sizes, closed, **kwargs)\u001b[39m\n\u001b[32m   1201\u001b[39m \u001b[38;5;28msuper\u001b[39m().\u001b[34m__init__\u001b[39m(**kwargs)\n\u001b[32m   1202\u001b[39m \u001b[38;5;28mself\u001b[39m.set_sizes(sizes)\n\u001b[32m-> \u001b[39m\u001b[32m1203\u001b[39m \u001b[38;5;28;43mself\u001b[39;49m\u001b[43m.\u001b[49m\u001b[43mset_verts\u001b[49m\u001b[43m(\u001b[49m\u001b[43mverts\u001b[49m\u001b[43m,\u001b[49m\u001b[43m \u001b[49m\u001b[43mclosed\u001b[49m\u001b[43m)\u001b[49m\n\u001b[32m   1204\u001b[39m \u001b[38;5;28mself\u001b[39m.stale = \u001b[38;5;28;01mTrue\u001b[39;00m\n",
      "\u001b[36mFile \u001b[39m\u001b[32m~/miniconda3/envs/sim_env/lib/python3.13/site-packages/matplotlib/collections.py:1238\u001b[39m, in \u001b[36mPolyCollection.set_verts\u001b[39m\u001b[34m(self, verts, closed)\u001b[39m\n\u001b[32m   1236\u001b[39m     codes[\u001b[32m0\u001b[39m] = mpath.Path.MOVETO\n\u001b[32m   1237\u001b[39m     codes[-\u001b[32m1\u001b[39m] = mpath.Path.CLOSEPOLY\n\u001b[32m-> \u001b[39m\u001b[32m1238\u001b[39m     \u001b[38;5;28mself\u001b[39m._paths = [\u001b[43mmpath\u001b[49m\u001b[43m.\u001b[49m\u001b[43mPath\u001b[49m\u001b[43m(\u001b[49m\u001b[43mxy\u001b[49m\u001b[43m,\u001b[49m\u001b[43m \u001b[49m\u001b[43mcodes\u001b[49m\u001b[43m)\u001b[49m \u001b[38;5;28;01mfor\u001b[39;00m xy \u001b[38;5;129;01min\u001b[39;00m verts_pad]\n\u001b[32m   1239\u001b[39m     \u001b[38;5;28;01mreturn\u001b[39;00m\n\u001b[32m   1241\u001b[39m \u001b[38;5;28mself\u001b[39m._paths = []\n",
      "\u001b[36mFile \u001b[39m\u001b[32m~/miniconda3/envs/sim_env/lib/python3.13/site-packages/matplotlib/path.py:130\u001b[39m, in \u001b[36mPath.__init__\u001b[39m\u001b[34m(self, vertices, codes, _interpolation_steps, closed, readonly)\u001b[39m\n\u001b[32m    101\u001b[39m \u001b[38;5;250m\u001b[39m\u001b[33;03m\"\"\"\u001b[39;00m\n\u001b[32m    102\u001b[39m \u001b[33;03mCreate a new path with the given vertices and codes.\u001b[39;00m\n\u001b[32m    103\u001b[39m \n\u001b[32m   (...)\u001b[39m\u001b[32m    127\u001b[39m \u001b[33;03m    and codes as read-only arrays.\u001b[39;00m\n\u001b[32m    128\u001b[39m \u001b[33;03m\"\"\"\u001b[39;00m\n\u001b[32m    129\u001b[39m vertices = _to_unmasked_float_array(vertices)\n\u001b[32m--> \u001b[39m\u001b[32m130\u001b[39m \u001b[43m_api\u001b[49m\u001b[43m.\u001b[49m\u001b[43mcheck_shape\u001b[49m\u001b[43m(\u001b[49m\u001b[43m(\u001b[49m\u001b[38;5;28;43;01mNone\u001b[39;49;00m\u001b[43m,\u001b[49m\u001b[43m \u001b[49m\u001b[32;43m2\u001b[39;49m\u001b[43m)\u001b[49m\u001b[43m,\u001b[49m\u001b[43m \u001b[49m\u001b[43mvertices\u001b[49m\u001b[43m=\u001b[49m\u001b[43mvertices\u001b[49m\u001b[43m)\u001b[49m\n\u001b[32m    132\u001b[39m \u001b[38;5;28;01mif\u001b[39;00m codes \u001b[38;5;129;01mis\u001b[39;00m \u001b[38;5;129;01mnot\u001b[39;00m \u001b[38;5;28;01mNone\u001b[39;00m \u001b[38;5;129;01mand\u001b[39;00m \u001b[38;5;28mlen\u001b[39m(vertices):\n\u001b[32m    133\u001b[39m     codes = np.asarray(codes, \u001b[38;5;28mself\u001b[39m.code_type)\n",
      "\u001b[36mFile \u001b[39m\u001b[32m~/miniconda3/envs/sim_env/lib/python3.13/site-packages/matplotlib/_api/__init__.py:162\u001b[39m, in \u001b[36mcheck_shape\u001b[39m\u001b[34m(shape, **kwargs)\u001b[39m\n\u001b[32m    159\u001b[39m \u001b[38;5;28;01mif\u001b[39;00m \u001b[38;5;28mlen\u001b[39m(shape) == \u001b[32m1\u001b[39m:\n\u001b[32m    160\u001b[39m     text_shape += \u001b[33m\"\u001b[39m\u001b[33m,\u001b[39m\u001b[33m\"\u001b[39m\n\u001b[32m--> \u001b[39m\u001b[32m162\u001b[39m \u001b[38;5;28;01mraise\u001b[39;00m \u001b[38;5;167;01mValueError\u001b[39;00m(\n\u001b[32m    163\u001b[39m     \u001b[33mf\u001b[39m\u001b[33m\"\u001b[39m\u001b[38;5;132;01m{\u001b[39;00mk\u001b[38;5;132;01m!r}\u001b[39;00m\u001b[33m must be \u001b[39m\u001b[38;5;132;01m{\u001b[39;00m\u001b[38;5;28mlen\u001b[39m(shape)\u001b[38;5;132;01m}\u001b[39;00m\u001b[33mD with shape (\u001b[39m\u001b[38;5;132;01m{\u001b[39;00mtext_shape\u001b[38;5;132;01m}\u001b[39;00m\u001b[33m), \u001b[39m\u001b[33m\"\u001b[39m\n\u001b[32m    164\u001b[39m     \u001b[33mf\u001b[39m\u001b[33m\"\u001b[39m\u001b[33mbut your input has shape \u001b[39m\u001b[38;5;132;01m{\u001b[39;00mv.shape\u001b[38;5;132;01m}\u001b[39;00m\u001b[33m\"\u001b[39m\n\u001b[32m    165\u001b[39m )\n",
      "\u001b[31mValueError\u001b[39m: 'vertices' must be 2D with shape (N, 2), but your input has shape (5, 3)"
     ]
    },
    {
     "data": {
      "image/png": "[encoded data removed]",
      "text/plain": [
       "<Figure size 1300x500 with 2 Axes>"
      ]
     },
     "metadata": {},
     "output_type": "display_data"
    }
   ],
   "source": [
    "i = 1\n",
    "\n",
    "# Create a figure with two subplots (1 row, 2 columns)\n",
    "fig, (ax1, ax2) = plt.subplots(1, 2, figsize=(13, 5))\n",
    "\n",
    "                # --- Plot c1 on the first axis (ax1) ---\n",
    "c1_triangle_values = c1_history[i][elements].sum(axis=1)\n",
    "collection1 = PolyCollection(nodes[elements], cmap='viridis')\n",
    "collection1.set_array(c1_triangle_values)\n",
    "ax1.add_collection(collection1)\n",
    "ax1.triplot(nodes[:, 0], nodes[:, 1], elements, 'k-', lw=0.5)\n",
    "ax1.set_title(f\"c1 \")\n",
    "fig.colorbar(collection1, ax=ax1, label=\"Sum of nodal values\")\n",
    "ax1.autoscale_view()\n",
    "ax1.set_aspect('equal')\n",
    "\n",
    "                # --- Plot phi on the second axis (ax2) ---\n",
    "phi_triangle_values = phi_history[i][elements].sum(axis=1)\n",
    "collection2 = PolyCollection(nodes[elements], cmap='plasma')\n",
    "collection2.set_array(phi_triangle_values)\n",
    "ax2.add_collection(collection2)\n",
    "ax2.triplot(nodes[:, 0], nodes[:, 1], elements, 'k-', lw=0.5)\n",
    "ax2.set_title(f\"phi \")\n",
    "fig.colorbar(collection2, ax=ax2, label=\"Sum of nodal values\")\n",
    "ax2.autoscale_view()\n",
    "ax2.set_aspect('equal')\n",
    "\n",
    "                # --- Finalize and show the plot ---\n",
    "plt.tight_layout()\n",
    "plt.show()"
   ]
  },
  {
   "cell_type": "code",
   "execution_count": null,
   "id": "9ea322a9",
   "metadata": {},
   "outputs": [
    {
     "ename": "ValueError",
     "evalue": "too many values to unpack (expected 2)",
     "output_type": "error",
     "traceback": [
      "\u001b[31m---------------------------------------------------------------------------\u001b[39m",
      "\u001b[31mValueError\u001b[39m                                Traceback (most recent call last)",
      "\u001b[36mCell\u001b[39m\u001b[36m \u001b[39m\u001b[32mIn[132]\u001b[39m\u001b[32m, line 7\u001b[39m\n\u001b[32m      5\u001b[39m nx, ny = \u001b[32m30\u001b[39m, \u001b[32m30\u001b[39m\n\u001b[32m      6\u001b[39m Lx, Ly = \u001b[32m1.0e-7\u001b[39m, \u001b[32m1.0e-7\u001b[39m\n\u001b[32m----> \u001b[39m\u001b[32m7\u001b[39m nodes, elements = create_structured_mesh(Lx=Lx, Ly=Ly, nx=nx, ny=ny)\n\u001b[32m      8\u001b[39m mesh = TriangularMesh(nodes, elements)\n",
      "\u001b[31mValueError\u001b[39m: too many values to unpack (expected 2)"
     ]
    }
   ],
   "source": [
    "from utils.fem_mesh import create_structured_mesh, TriangularMesh\n",
    "\n",
    "\n",
    "\n",
    "nx, ny = 30, 30\n",
    "Lx, Ly = 1.0e-7, 1.0e-7\n",
    "nodes, elements = create_structured_mesh(Lx=Lx, Ly=Ly, nx=nx, ny=ny)\n",
    "mesh = TriangularMesh(nodes, elements)"
   ]
  },
  {
   "cell_type": "code",
   "execution_count": null,
   "id": "34687e8c",
   "metadata": {},
   "outputs": [
    {
     "data": {
      "text/plain": [
       "(961, 2)"
      ]
     },
     "execution_count": 8,
     "metadata": {},
     "output_type": "execute_result"
    }
   ],
   "source": [
    "nodes.shape"
   ]
  }
 ],
 "metadata": {
  "kernelspec": {
   "display_name": "sim_env",
   "language": "python",
   "name": "python3"
  },
  "language_info": {
   "codemirror_mode": {
    "name": "ipython",
    "version": 3
   },
   "file_extension": ".py",
   "mimetype": "text/x-python",
   "name": "python",
   "nbconvert_exporter": "python",
   "pygments_lexer": "ipython3",
   "version": "3.13.5"
  }
 },
 "nbformat": 4,
 "nbformat_minor": 5
}
